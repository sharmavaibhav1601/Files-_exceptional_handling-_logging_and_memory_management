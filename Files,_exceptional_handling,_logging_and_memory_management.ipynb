{
  "nbformat": 4,
  "nbformat_minor": 0,
  "metadata": {
    "colab": {
      "provenance": []
    },
    "kernelspec": {
      "name": "python3",
      "display_name": "Python 3"
    },
    "language_info": {
      "name": "python"
    }
  },
  "cells": [
    {
      "cell_type": "markdown",
      "source": [
        "#Files, exceptional handling, logging and memory management\n",
        "#Theory Questions"
      ],
      "metadata": {
        "id": "mAqWkX1KqV1Y"
      }
    },
    {
      "cell_type": "markdown",
      "source": [
        "1. What is the difference between interpreted and compiled languages?\n",
        "-> Interpreted languages** are executed line-by-line by an interpreter at runtime, which means they do not require a separate compilation step. Examples include Python and JavaScript.\n",
        "Compiled languages** are transformed into machine code by a compiler before execution, resulting in faster performance. Examples include C and C++.\n",
        "\n",
        "2. What is exception handling in Python?\n",
        "-> Exception handling in Python is a mechanism to manage errors that occur during program execution. It allows developers to write code that can gracefully handle unexpected situations using try, except, else, and finally blocks.\n",
        "\n",
        "3. What is the purpose of the finally block in exception handling?\n",
        "-> The finally block is used to execute code that must run regardless of whether an exception was raised or not. It is typically used for cleanup actions, such as closing files or releasing resources.\n",
        "\n",
        "4. What is logging in Python?\n",
        "-> Logging in Python is a way to track events that happen during program execution. It provides a way to record messages, errors, and other information to help with debugging and monitoring applications.\n",
        "\n",
        "5. What is the significance of the del method in Python?\n",
        "-> The del method is a destructor that is called when an object is about to be destroyed. It can be used to perform cleanup actions, such as closing files or releasing resources, but its use is generally discouraged due to the unpredictability of its invocation.\n",
        "\n",
        "6. What is the difference between import and from ... import in Python?\n",
        "-> import module_name imports the entire module, and you must use the module name to access its functions or classes (e.g., module_name.function()).\n",
        "from module_name import function_name imports a specific function or class directly, allowing you to use it without the module prefix (e.g., function_name()).\n",
        "\n",
        "7. How can you handle multiple exceptions in Python?\n",
        "-> We can handle multiple exceptions by specifying multiple exception types in a single except block using a tuple, or by using separate except blocks for each exception type.\n",
        "\n",
        "try:\n",
        "code that may raise exceptions\n",
        "except (TypeError, ValueError) as e:\n",
        "handle TypeError and ValueError\n",
        "\n",
        "8. What is the purpose of the with statement when handling files in Python?\n",
        "-> The with statement simplifies file handling by automatically managing resources. It ensures that files are properly closed after their suite finishes, even if an exception occurs, preventing resource leaks.\n",
        "\n",
        "9. What is the difference between multithreading and multiprocessing?\n",
        "-> Multithreading** involves multiple threads within a single process, sharing the same memory space. It is useful for I/O-bound tasks.\n",
        "Multiprocessing** involves multiple processes, each with its own memory space. It is useful for CPU-bound tasks and can take advantage of multiple CPU cores.\n",
        "\n",
        "10. What are the advantages of using logging in a program?\n",
        "-> Advantages of using logging include:\n",
        "\n",
        "*  Easier debugging and monitoring of applications.\n",
        "*  Ability to record events and errors for later analysis.\n",
        "*   Configurable logging levels to control the verbosity of output.\n",
        "*   Persistent logs that can be stored in files or external systems.\n",
        "\n",
        "11. What is memory management in Python?\n",
        "-> Memory management in Python refers to the process of allocating and deallocating memory for objects. Python uses a combination of reference counting and garbage collection to manage memory automatically.\n",
        "\n",
        "12. What are the basic steps involved in exception handling in Python?\n",
        "-> The basic steps in exception handling are:\n",
        "Use a try block to wrap code that may raise an exception.\n",
        "Use one or more except blocks to handle specific exceptions.\n",
        "Optionally use an else block to execute code if no exceptions occur.\n",
        "Use a finally block to execute cleanup code regardless of exceptions.\n",
        "\n",
        "13. Why is memory management important in Python?\n",
        "-> Memory management is important to ensure efficient use of memory resources, prevent memory leaks, and optimize performance. Proper memory management helps maintain application stability and responsiveness.\n",
        "\n",
        "14. What is the role of try and except in exception handling?\n",
        "-> The try block contains code that may raise an exception, while the except block contains code that handles the exception if it occurs. This allows the program to continue running or to handle errors gracefully.\n",
        "\n",
        "15. How does Python's garbage collection system work?\n",
        "-> Python's garbage collection system automatically manages memory by tracking object references. When an object's reference count drops to zero, it is eligible for garbage collection. Python also uses a cyclic garbage collector to detect and clean up reference cycles.\n",
        "\n",
        "16. What is the purpose of the else block in exception handling?\n",
        "-> The else block is executed if the code in the try block does not raise any exceptions. It is useful for code that should only run when no errors occur.\n",
        "\n",
        "17. What are the common logging levels in Python?\n",
        "-> Common logging levels in Python include:\n",
        "> DEBUG: Detailed information for diagnosing problems.\n",
        "\n",
        "> INFO: General information about program execution.\n",
        "\n",
        "> WARNING: Indications of potential issues.\n",
        "\n",
        "> ERROR: Errors that occurred during execution.\n",
        "\n",
        "> CRITICAL: Serious errors that may prevent the program from continuing.\n",
        "\n",
        "18. What is the difference between os.fork() and multiprocessing in Python?\n",
        "-> os.fork() creates a new process by duplicating the current process. It is a low-level operation and is specific to Unix-like systems while the multiprocessing module provides a higher-level interface for creating and managing processes, allowing for easier communication and synchronization between them.\n",
        "\n",
        "19. What is the importance of closing a file in Python?\n",
        "-> Closing a file is important to free up system resources and ensure that all data is properly written to disk. Failing to close a file can lead to data loss and resource leaks.\n",
        "\n",
        "20. What is the difference between file.read() and file.readline() in Python?\n",
        "-> file.read() reads the entire content of the file as a single string on the other hand file.readline() reads a single line from the file, returning it as a string. Subsequent calls will read the next line.\n",
        "\n",
        "21. What is the logging module in Python used for?\n",
        "-> The logging module in Python is used to implement a flexible logging system for applications. It allows developers to log messages at different severity levels, configure output formats, and direct logs to various destinations (e.g., console, files).\n",
        "\n",
        "22. What is the os module in Python used for in file handling?\n",
        "-> The os module provides a way to interact with the operating system, including file handling operations such as creating, deleting, and manipulating files and directories. It also allows for environment variable access and process management.\n",
        "\n",
        "23. What are the challenges associated with memory management in Python?\n",
        "-> Challenges include:\n",
        "> Memory leaks due to circular references.\n",
        "\n",
        "> Inefficient memory usage if objects are not released promptly.\n",
        "\n",
        ">Performance overhead from garbage collection.\n",
        "\n",
        "> Managing memory in large applications with many objects.\n",
        "\n",
        "24. How do you raise an exception manually in Python?\n",
        "-> We can raise an exception manually using the raise statement followed by the exception type. We can also provide an optional error message.\n",
        "\n",
        "raise ValueError(\"This is a custom error message.\")\n",
        "\n",
        "25. Why is it important to use multithreading in certain applications?\n",
        "-> Multithreading is important in applications that require concurrent execution of tasks, especially for I/O-bound operations (e.g., network requests, file I/O). It allows for better resource utilization and improved responsiveness, as threads can run in parallel while waiting for I/O operations to complete."
      ],
      "metadata": {
        "id": "1i5gHpPwqcnq"
      }
    },
    {
      "cell_type": "markdown",
      "source": [
        "#Practical Questions"
      ],
      "metadata": {
        "id": "61VzFgOisvMy"
      }
    },
    {
      "cell_type": "code",
      "source": [
        "#1. How can you open a file for writing in Python and write a string to it?\n",
        "with open('output.txt', 'w') as file:\n",
        "    file.write(\"Hello, World!\")"
      ],
      "metadata": {
        "id": "QZeG9RhWszlU"
      },
      "execution_count": 1,
      "outputs": []
    },
    {
      "cell_type": "code",
      "source": [
        "#2. Write a Python program to read the contents of a file and print each line.\n",
        "# Creating input.txt if it doesn't exist, and add some content.\n",
        "with open('input.txt', 'w') as file:\n",
        "    file.write(\"This is the first line.\\n\")\n",
        "    file.write(\"This is the second line.\\n\")\n",
        "\n",
        "with open('input.txt', 'r') as file:\n",
        "    for line in file:\n",
        "        print(line.strip())"
      ],
      "metadata": {
        "id": "k3paK3hw07yw"
      },
      "execution_count": null,
      "outputs": []
    },
    {
      "cell_type": "code",
      "source": [
        "#3. How would you handle a case where the file doesn't exist while trying to open it for reading?\n",
        "try:\n",
        "    with open('non_existent_file.txt', 'r') as file:\n",
        "        content = file.read()\n",
        "except FileNotFoundError:\n",
        "    print(\"The file does not exist.\")"
      ],
      "metadata": {
        "id": "t28g5tsi1p0o"
      },
      "execution_count": null,
      "outputs": []
    },
    {
      "cell_type": "code",
      "source": [
        "#4. Write a Python script that reads from one file and writes its content to another file.\n",
        "with open('source.txt', 'w') as file:\n",
        "    file.write(\"This is the content of source.txt.\\n\")\n",
        "    file.write(\"Another line in source.txt.\\n\")\n",
        "\n",
        "with open('source.txt', 'r') as source_file:\n",
        "    with open('destination.txt', 'w') as dest_file:\n",
        "        dest_file.write(source_file.read())"
      ],
      "metadata": {
        "id": "VQyg7tx91wL0"
      },
      "execution_count": 8,
      "outputs": []
    },
    {
      "cell_type": "code",
      "source": [
        "#5. How would you catch and handle division by zero error in Python?\n",
        "try:\n",
        "    result = 10 / 0\n",
        "except ZeroDivisionError:\n",
        "    print(\"Cannot divide by zero.\")"
      ],
      "metadata": {
        "id": "8BXXPa1m2kf9"
      },
      "execution_count": null,
      "outputs": []
    },
    {
      "cell_type": "code",
      "source": [
        "#6. Write a Python program that logs an error message to a log file when a division by zero exception occurs.\n",
        "import logging\n",
        "\n",
        "# Configure logging\n",
        "logging.basicConfig(filename='error.log', level=logging.ERROR)\n",
        "\n",
        "try:\n",
        "    result = 10 / 0\n",
        "except ZeroDivisionError:\n",
        "    logging.error(\"Division by zero error occurred.\")"
      ],
      "metadata": {
        "id": "QdlFclBB2qXL"
      },
      "execution_count": null,
      "outputs": []
    },
    {
      "cell_type": "code",
      "source": [
        "#7. How do you log information at different levels (INFO, ERROR, WARNING) in Python using the logging module?\n",
        "import logging\n",
        "\n",
        "logging.basicConfig(level=logging.DEBUG)\n",
        "\n",
        "logging.debug(\"This is a debug message.\")\n",
        "logging.info(\"This is an info message.\")\n",
        "logging.warning(\"This is a warning message.\")\n",
        "logging.error(\"This is an error message.\")\n",
        "logging.critical(\"This is a critical message.\")"
      ],
      "metadata": {
        "id": "BgG9QWca2wLN"
      },
      "execution_count": null,
      "outputs": []
    },
    {
      "cell_type": "code",
      "source": [
        "#8. Write a program to handle a file opening error using exception handling.\n",
        "try:\n",
        "    with open('non_existent_file.txt', 'r') as file:\n",
        "        content = file.read()\n",
        "except Exception as e:\n",
        "    print(f\"An error occurred: {e}\")"
      ],
      "metadata": {
        "id": "DRBRBlVx22h0"
      },
      "execution_count": null,
      "outputs": []
    },
    {
      "cell_type": "code",
      "source": [
        "#9. How can you read a file line by line and store its content in a list in Python?\n",
        "lines = []\n",
        "with open('input.txt', 'r') as file:\n",
        "    lines = file.readlines()\n",
        "\n",
        "# Remove newline characters\n",
        "lines = [line.strip() for line in lines]"
      ],
      "metadata": {
        "id": "osQMCPnr3ABe"
      },
      "execution_count": 13,
      "outputs": []
    },
    {
      "cell_type": "code",
      "source": [
        "#10. How can you append data to an existing file in Python?\n",
        "with open('output.txt', 'a') as file:\n",
        "    file.write(\"Appending this line.\\n\")"
      ],
      "metadata": {
        "id": "DFg2ynUH3Gj9"
      },
      "execution_count": 14,
      "outputs": []
    },
    {
      "cell_type": "code",
      "source": [
        "#11. Write a Python program that uses a try-except block to handle an error when attempting to access a dictionary key that doesn't exist.\n",
        "my_dict = {'a': 1, 'b': 2}\n",
        "\n",
        "try:\n",
        "    value = my_dict['c']\n",
        "except KeyError:\n",
        "    print(\"Key does not exist.\")"
      ],
      "metadata": {
        "id": "zUodBnBA3MGB"
      },
      "execution_count": null,
      "outputs": []
    },
    {
      "cell_type": "code",
      "source": [
        "#12. Write a program that demonstrates using multiple except blocks to handle different types of exceptions.\n",
        "try:\n",
        "    result = 10 / 0\n",
        "    value = my_dict['c']\n",
        "except ZeroDivisionError:\n",
        "    print(\"Cannot divide by zero.\")\n",
        "except KeyError:\n",
        "    print(\"Key does not exist.\")"
      ],
      "metadata": {
        "id": "-RICLITD3ShZ"
      },
      "execution_count": null,
      "outputs": []
    },
    {
      "cell_type": "code",
      "source": [
        "#13. How would you check if a file exists before attempting to read it in Python?\n",
        "import os\n",
        "\n",
        "if os.path.exists('input.txt'):\n",
        "    with open('input.txt', 'r') as file:\n",
        "        content = file.read()\n",
        "else:\n",
        "    print(\"File does not exist.\")"
      ],
      "metadata": {
        "id": "_-az6U2L3YsU"
      },
      "execution_count": 17,
      "outputs": []
    },
    {
      "cell_type": "code",
      "source": [
        "#14. Write a program that uses the logging module to log both informational and error messages.\n",
        "import logging\n",
        "\n",
        "logging.basicConfig(filename='app.log', level=logging.DEBUG)\n",
        "\n",
        "logging.info(\"This is an informational message.\")\n",
        "try:\n",
        "    result = 10 / 0\n",
        "except ZeroDivisionError:\n",
        "    logging.error(\"Division by zero error occurred.\")"
      ],
      "metadata": {
        "id": "WOrzgzwA3eUQ"
      },
      "execution_count": null,
      "outputs": []
    },
    {
      "cell_type": "code",
      "source": [
        "#15. Write a Python program that prints the content of a file and handles the case when the file is empty.\n",
        "try:\n",
        "    with open('input.txt', 'r') as file:\n",
        "        content = file.read()\n",
        "        if not content:\n",
        "            print(\"The file is empty.\")\n",
        "        else:\n",
        "            print(content)\n",
        "except FileNotFoundError:\n",
        "    print(\"The file does not exist.\")"
      ],
      "metadata": {
        "id": "-jiZG_LJ3lrD"
      },
      "execution_count": null,
      "outputs": []
    },
    {
      "cell_type": "code",
      "source": [
        "#16. Demonstrate how to use memory profiling to check the memory usage of a small program.\n",
        "!pip install memory_profiler\n",
        "from memory_profiler import profile\n",
        "\n",
        "@profile\n",
        "def my_function():\n",
        "    a = [i for i in range(10000)]\n",
        "    return a\n",
        "\n",
        "my_function()"
      ],
      "metadata": {
        "id": "lXOxDn9v3qQn"
      },
      "execution_count": null,
      "outputs": []
    },
    {
      "cell_type": "code",
      "source": [
        "#17. Write a Python program to create and write a list of numbers to a file, one number per line.\n",
        "numbers = [1, 2, 3, 4, 5]\n",
        "\n",
        "with open('numbers.txt', 'w') as file:\n",
        "    for number in numbers:\n",
        "        file.write(f\"{number}\\n\")"
      ],
      "metadata": {
        "id": "lHq6lIRn4BQQ"
      },
      "execution_count": 21,
      "outputs": []
    },
    {
      "cell_type": "code",
      "source": [
        "#18. How would you implement a basic logging setup that logs to a file with rotation after 1MB?\n",
        "import logging\n",
        "from logging.handlers import RotatingFileHandler\n",
        "\n",
        "handler = RotatingFileHandler('app.log', maxBytes=1e6, backupCount=5)\n",
        "logging.basicConfig(handlers=[handler], level=logging.INFO)\n",
        "\n",
        "logging.info(\"This is a log message.\")"
      ],
      "metadata": {
        "id": "XKo485hn4j61"
      },
      "execution_count": 23,
      "outputs": []
    },
    {
      "cell_type": "code",
      "source": [
        "#19. Write a program that handles both IndexError and KeyError using a try-except block.\n",
        "my_list = [1, 2, 3]\n",
        "my_dict = {'a': 1, 'b': 2}\n",
        "\n",
        "try:\n",
        "    value = my_list[5]\n",
        "    value = my_dict['d']\n",
        "except IndexError:\n",
        "    print(\"Index does not exist in the list.\")\n",
        "except KeyError:\n",
        "    print(\"Key does not exist in the dictionary.\")"
      ],
      "metadata": {
        "id": "_aAVReLW4tjx"
      },
      "execution_count": null,
      "outputs": []
    },
    {
      "cell_type": "code",
      "source": [
        "#20. How would you open a file and read its contents using a context manager in Python?\n",
        "with open('input.txt', 'r') as file:\n",
        "    content = file.read()\n",
        "    print(content)"
      ],
      "metadata": {
        "id": "uYYuPfvb4-0a"
      },
      "execution_count": null,
      "outputs": []
    },
    {
      "cell_type": "code",
      "source": [
        "#21. Write a Python program that reads a file and prints the number of occurrences of a specific word.\n",
        "word_to_count = \"example\"\n",
        "count = 0\n",
        "\n",
        "with open('input.txt', 'r') as file:\n",
        "    for line in file:\n",
        "        count += line.lower().count(word_to_count.lower())\n",
        "\n",
        "print(f\"The word '{word_to_count}' occurs {count} times.\")"
      ],
      "metadata": {
        "id": "mU5FBjL95Hv-"
      },
      "execution_count": null,
      "outputs": []
    },
    {
      "cell_type": "code",
      "source": [
        "#22. How can you check if a file is empty before attempting to read its contents?\n",
        "import os\n",
        "\n",
        "if os.path.exists('value.txt') and os.path.getsize('value.txt') > 0:\n",
        "    with open('value.txt', 'r') as file:\n",
        "        content = file.read()\n",
        "else:\n",
        "    print(\"The file is empty or does not exist.\")"
      ],
      "metadata": {
        "id": "KBIVhUHj5UVL"
      },
      "execution_count": null,
      "outputs": []
    },
    {
      "cell_type": "code",
      "source": [
        "#23. Write a Python program that writes to a log file when an error occurs during file handling.\n",
        "import logging\n",
        "\n",
        "logging.basicConfig(filename='file_errors.log', level=logging.ERROR)\n",
        "\n",
        "try:\n",
        "    with open('non_existent_file.txt', 'r') as file:\n",
        "        content = file.read()\n",
        "except Exception as e:\n",
        "    logging.error(f\"Error occurred: {e}\")"
      ],
      "metadata": {
        "id": "rNofgdBG5dS9"
      },
      "execution_count": null,
      "outputs": []
    }
  ]
}